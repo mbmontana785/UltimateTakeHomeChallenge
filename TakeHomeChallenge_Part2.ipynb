{
 "cells": [
  {
   "cell_type": "markdown",
   "metadata": {},
   "source": [
    "# Part 2 ‐ Experiment and metrics design\n",
    "The neighboring cities of Gotham and Metropolis have complementary circadian rhythms: on\n",
    "weekdays, Ultimate Gotham is most active at night, and Ultimate Metropolis is most active\n",
    "during the day. On weekends, there is reasonable activity in both cities.\n",
    "However, a toll bridge, with a two way toll, between the two cities causes driver partners to tend\n",
    "to be exclusive to each city. The Ultimate managers of city operations for the two cities have\n",
    "proposed an experiment to encourage driver partners to be available in both cities, by\n",
    "reimbursing all toll costs.\n",
    "1) What would you choose as the key measure of success of this experiment in\n",
    "encouraging driver partners to serve both cities, and why would you choose this metric?\n",
    "2) Describe a practical experiment you would design to compare the effectiveness of the\n",
    "proposed change in relation to the key measure of success. Please provide details on:\n",
    "a) how you will implement the experiment\n",
    "b) what statistical test(s) you will conduct to verify the significance of the\n",
    "observation\n",
    "c) how you would interpret the results and provide recommendations to the city\n",
    "operations team along with any caveats.\n",
    "Note: The two cities of Gotham and Metropolis are not in the provided dataset; however, you do\n",
    "not need this information to answer Part 2.\n"
   ]
  },
  {
   "cell_type": "markdown",
   "metadata": {},
   "source": [
    "# Answer\n",
    "\n",
    "On weekdays, most drivers will be in Metropolis during the day and in Gotham at night, so toll or no toll, there's not much of a reason for them to go back and forth between those cities at those times.<br>\n",
    "\n",
    "On weekends, however, there's a possibility that reimbursement of toll fees could prompt drivers to go back and forth between Gotham and Metropolis since both cities are active on weekends.<br>\n",
    "\n",
    "I would start with driver activity data in Gotham and Metropolis beginning at 6 p.m. on Fridays and ending at midnight on Monday (end of Sunday). This would make it easier to break down into the following 6-hour shifts:<br>\n",
    "\n",
    "6 p.m. Friday to midnight<br>\n",
    "Midnight to 6 a.m. Saturday<br>\n",
    "6 a.m. Saturday to noon<br>\n",
    "noon to 6 p.m. Saturday<br>\n",
    "6 p.m. Saturday to midnight<br>\n",
    "midnight to 6 a.m. Sunday<br>\n",
    "6 a.m. Sunday to noon<br>\n",
    "noon to 6 p.m. Sunday<br>\n",
    "6 p.m. Sunday to midnight<br>\n",
    "\n",
    "We need to break it down this precisely because a driver could be driving only in Gotham from 9 p.m. Friday until 2 a.m. Saturday, then stop and log back in at 9 p.m. Saturday and drive in Metropolis only. Even though the driver never left cities during either shift, he drove in two cities on Saturday."
   ]
  },
  {
   "cell_type": "markdown",
   "metadata": {},
   "source": [
    "## Hypothesis test\n",
    "We'll design a hypothesis test with the test statistic being the difference in the mean number of cities drivers accept rides in during each of the aforementioned 6-hour increments before toll reimbursement and after toll reimbursement.<br>\n",
    "\n",
    "We would slice the data to include only rides in Gotham and Metropolis during those times. If a driver takes passengers in both cities between 6 p.m. Saturday and midnight, for example, that variable would be a 2. If a driver stays only in Metropolis from midnight to 6 a.m. Sunday, that variable would be 1. The variable in this column of the dataframe would be only 1 or 2 since we will drop drivers who aren't active during a shift.<br>\n",
    "\n",
    "We would take this data for the 30 days before the toll reimbursement experiment, and then compare it to the same data for 30 days after the toll reimbursement experiment begins. Let's say drivers averaged 1.14 of these cities per shift before toll reimbursement and then 1.35 of these cities after toll reimbursement was instituted. The test statistic is then 0.21.<br>\n"
   ]
  },
  {
   "cell_type": "markdown",
   "metadata": {},
   "source": [
    "### Null hypothesis\n",
    "**Reimbursing drivers' tolls does not increase the average number of cities in which drivers accept rides on weekends.**<br>\n",
    "\n",
    "Each sample represents a driver's activity during each of those six-hour shifts. Let's say we have 90,000 samples from before the experiment and 100,000 samples during the experiment. We would put them all in the same dataset and create a permutation replicate that randomly places samples either in the pool of 90K pre-experiment samples or the 100K experiment samples. This way, we treat every sample as if the null hypothesis were true, that there is no difference in driver tendencies between toll reimbursement and non-toll reimbursement.<br>\n",
    "\n",
    "We create 10,000 of these permutation replicates and plot a histogram of our test statistic from each of these replicates. We would then see where our observed test statistic, the 0.21, falls on this distribution. We then would look for the p-value, the probability of getting a result of at least 0.21 if the null hypothesis were true. If less than 0.05 percent of the test statistic distribution is equal to or greater than 0.21, then we have a p-value of 0.05 or smaller and this would allow us to reject the null hypothesis as the 0.21 test statistic would be considered statistically significant.<br>\n",
    "\n",
    "If the p-value were greater than 0.05, then we could not reject the null hypothesis that toll reimbursement does not increase the number of cities in which drivers accept rides on weekends.<br>"
   ]
  },
  {
   "cell_type": "markdown",
   "metadata": {},
   "source": [
    "### Caveats\n",
    "\n",
    "We have to be conscious of the time of year in which we conduct the experiment. There's a huge dropoff in rideshare demand between December and January, for example. The 30 days before the experiment and the 30 days of the experiment should occur during the same season so that rideshare demand remains steady. June-July, July-August, September-October or October-November would be good times to conduct the experiment, but not August-September because areas of high summer activity would see a drop in demand after Labor Day."
   ]
  },
  {
   "cell_type": "code",
   "execution_count": null,
   "metadata": {},
   "outputs": [],
   "source": []
  }
 ],
 "metadata": {
  "kernelspec": {
   "display_name": "Python 3",
   "language": "python",
   "name": "python3"
  },
  "language_info": {
   "codemirror_mode": {
    "name": "ipython",
    "version": 3
   },
   "file_extension": ".py",
   "mimetype": "text/x-python",
   "name": "python",
   "nbconvert_exporter": "python",
   "pygments_lexer": "ipython3",
   "version": "3.8.5"
  }
 },
 "nbformat": 4,
 "nbformat_minor": 4
}
